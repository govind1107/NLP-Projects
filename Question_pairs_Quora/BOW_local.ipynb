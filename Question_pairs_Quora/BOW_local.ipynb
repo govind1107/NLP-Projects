{
 "cells": [
  {
   "cell_type": "code",
   "execution_count": 1,
   "id": "0e4ffc9d",
   "metadata": {},
   "outputs": [],
   "source": [
    "import pandas as pd\n",
    "import numpy as np\n",
    "import seaborn as sns\n",
    "import matplotlib.pyplot as plt"
   ]
  },
  {
   "cell_type": "code",
   "execution_count": 7,
   "id": "525e5762",
   "metadata": {},
   "outputs": [],
   "source": [
    "df = pd.read_csv(\"train.csv\")"
   ]
  },
  {
   "cell_type": "code",
   "execution_count": 8,
   "id": "38c6a480",
   "metadata": {},
   "outputs": [],
   "source": [
    "df = df.sample(30000)"
   ]
  },
  {
   "cell_type": "code",
   "execution_count": 9,
   "id": "9c545eaf",
   "metadata": {},
   "outputs": [],
   "source": [
    "quest_df = df[['question1','question2']]"
   ]
  },
  {
   "cell_type": "code",
   "execution_count": 10,
   "id": "69f60f62",
   "metadata": {},
   "outputs": [],
   "source": [
    "from sklearn.feature_extraction.text import CountVectorizer"
   ]
  },
  {
   "cell_type": "code",
   "execution_count": 11,
   "id": "98d74f08",
   "metadata": {},
   "outputs": [],
   "source": [
    "questions = list(quest_df['question1'])+list(quest_df['question2'])"
   ]
  },
  {
   "cell_type": "code",
   "execution_count": 12,
   "id": "104b0762",
   "metadata": {},
   "outputs": [],
   "source": [
    "cv = CountVectorizer(max_features = 4000)"
   ]
  },
  {
   "cell_type": "code",
   "execution_count": 13,
   "id": "b34ec255",
   "metadata": {},
   "outputs": [],
   "source": [
    "q1_arr,q2_arr = np.vsplit(cv.fit_transform(questions).toarray(),2)"
   ]
  },
  {
   "cell_type": "code",
   "execution_count": 14,
   "id": "ea42c9e8",
   "metadata": {},
   "outputs": [],
   "source": [
    "temp_df1 = pd.DataFrame(q1_arr,index = quest_df.index)\n",
    "temp_df2 = pd.DataFrame(q2_arr,index = quest_df.index)"
   ]
  },
  {
   "cell_type": "code",
   "execution_count": 15,
   "id": "1df3b66d",
   "metadata": {},
   "outputs": [],
   "source": [
    "temp_df = pd.concat([temp_df1,temp_df2],axis=1)"
   ]
  },
  {
   "cell_type": "code",
   "execution_count": 16,
   "id": "3543c6bd",
   "metadata": {},
   "outputs": [
    {
     "data": {
      "text/plain": [
       "(30000, 8000)"
      ]
     },
     "execution_count": 16,
     "metadata": {},
     "output_type": "execute_result"
    }
   ],
   "source": [
    "temp_df.shape"
   ]
  },
  {
   "cell_type": "code",
   "execution_count": 17,
   "id": "effd31dd",
   "metadata": {},
   "outputs": [],
   "source": [
    "temp_df['is_duplicate'] = df['is_duplicate']"
   ]
  },
  {
   "cell_type": "code",
   "execution_count": 18,
   "id": "8b2f500d",
   "metadata": {},
   "outputs": [],
   "source": [
    "from sklearn.model_selection import train_test_split\n",
    "X_train,X_test,y_train,y_test = train_test_split(temp_df.iloc[:,0:-1].values,temp_df.iloc[:,-1].values,test_size=0.2,random_state=1)"
   ]
  },
  {
   "cell_type": "code",
   "execution_count": 19,
   "id": "f27d36fb",
   "metadata": {},
   "outputs": [
    {
     "data": {
      "text/plain": [
       "0.7371666666666666"
      ]
     },
     "execution_count": 19,
     "metadata": {},
     "output_type": "execute_result"
    }
   ],
   "source": [
    "from sklearn.ensemble import RandomForestClassifier\n",
    "from sklearn.metrics import accuracy_score\n",
    "rf = RandomForestClassifier()\n",
    "rf.fit(X_train,y_train)\n",
    "y_pred = rf.predict(X_test)\n",
    "accuracy_score(y_test,y_pred)"
   ]
  },
  {
   "cell_type": "code",
   "execution_count": 22,
   "id": "c55b7a80",
   "metadata": {},
   "outputs": [
    {
     "data": {
      "text/plain": [
       "0.7213333333333334"
      ]
     },
     "execution_count": 22,
     "metadata": {},
     "output_type": "execute_result"
    }
   ],
   "source": [
    "from xgboost import XGBClassifier\n",
    "xgb = XGBClassifier()\n",
    "xgb.fit(X_train,y_train)\n",
    "y_pred = xgb.predict(X_test)\n",
    "accuracy_score(y_test,y_pred)"
   ]
  },
  {
   "cell_type": "code",
   "execution_count": null,
   "id": "74c41835",
   "metadata": {},
   "outputs": [],
   "source": []
  }
 ],
 "metadata": {
  "kernelspec": {
   "display_name": "Python 3 (ipykernel)",
   "language": "python",
   "name": "python3"
  },
  "language_info": {
   "codemirror_mode": {
    "name": "ipython",
    "version": 3
   },
   "file_extension": ".py",
   "mimetype": "text/x-python",
   "name": "python",
   "nbconvert_exporter": "python",
   "pygments_lexer": "ipython3",
   "version": "3.11.5"
  }
 },
 "nbformat": 4,
 "nbformat_minor": 5
}
